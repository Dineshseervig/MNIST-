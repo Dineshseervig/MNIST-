{
 "cells": [
  {
   "cell_type": "code",
   "execution_count": 5,
   "metadata": {},
   "outputs": [
    {
     "name": "stderr",
     "output_type": "stream",
     "text": [
      "Using TensorFlow backend.\n"
     ]
    }
   ],
   "source": [
    "# import relevant libraries\n",
    "import numpy as np\n",
    "import pandas as pd\n",
    "import matplotlib.pyplot as plt\n",
    "%matplotlib inline\n",
    "import seaborn as sns\n",
    "import keras\n"
   ]
  },
  {
   "cell_type": "code",
   "execution_count": 6,
   "metadata": {},
   "outputs": [
    {
     "name": "stdout",
     "output_type": "stream",
     "text": [
      "Downloading data from https://s3.amazonaws.com/img-datasets/mnist.npz\n",
      "11493376/11490434 [==============================] - 64s 6us/step\n"
     ]
    }
   ],
   "source": [
    "from keras.datasets import mnist\n",
    "\n",
    "def load_data():\n",
    "  (train_samples,train_labels), (test_samples,test_labels) = mnist.load_data()\n",
    "  return train_samples, train_labels, test_samples, test_labels\n",
    "\n",
    "train_samples, train_labels, test_samples, test_labels = load_data()"
   ]
  },
  {
   "cell_type": "code",
   "execution_count": 7,
   "metadata": {},
   "outputs": [
    {
     "name": "stdout",
     "output_type": "stream",
     "text": [
      "(60000, 28, 28)\n",
      "(60000,)\n",
      "(10000, 28, 28)\n",
      "(10000,)\n",
      "[5 0 4 1 9 2 1 3]\n"
     ]
    }
   ],
   "source": [
    "# check the shape of the data\n",
    "print(train_samples.shape)\n",
    "print(train_labels.shape)\n",
    "print(test_samples.shape)\n",
    "print(test_labels.shape)\n",
    "print(train_labels[0:8])"
   ]
  },
  {
   "cell_type": "code",
   "execution_count": 8,
   "metadata": {},
   "outputs": [
    {
     "name": "stdout",
     "output_type": "stream",
     "text": [
      "255\n",
      "0\n"
     ]
    }
   ],
   "source": [
    "print(np.amax(train_samples))\n",
    "print(np.amin(train_samples))"
   ]
  },
  {
   "cell_type": "code",
   "execution_count": 9,
   "metadata": {},
   "outputs": [
    {
     "data": {
      "image/png": "[encoded data removed]",
      "text/plain": [
       "<Figure size 432x288 with 1 Axes>"
      ]
     },
     "metadata": {
      "needs_background": "light"
     },
     "output_type": "display_data"
    },
    {
     "name": "stdout",
     "output_type": "stream",
     "text": [
      "Label of image is 5\n"
     ]
    },
    {
     "data": {
      "image/png": "[encoded data removed]",
      "text/plain": [
       "<Figure size 432x288 with 1 Axes>"
      ]
     },
     "metadata": {
      "needs_background": "light"
     },
     "output_type": "display_data"
    },
    {
     "name": "stdout",
     "output_type": "stream",
     "text": [
      "Label of image is 0\n"
     ]
    },
    {
     "data": {
      "image/png": "[encoded data removed]",
      "text/plain": [
       "<Figure size 432x288 with 1 Axes>"
      ]
     },
     "metadata": {
      "needs_background": "light"
     },
     "output_type": "display_data"
    },
    {
     "name": "stdout",
     "output_type": "stream",
     "text": [
      "Label of image is 4\n"
     ]
    }
   ],
   "source": [
    "for i in range(0,3):\n",
    "  pixels=train_samples[i]\n",
    "  plt.imshow(pixels, cmap = plt.cm.binary)\n",
    "  plt.show()\n",
    "  print(\"Label of image is\", train_labels[i])"
   ]
  },
  {
   "cell_type": "code",
   "execution_count": 10,
   "metadata": {},
   "outputs": [],
   "source": [
    "#function to convert datatype to float\n",
    "def convert_dtype(x):\n",
    "   \n",
    "    \n",
    "    x_float=x.astype('float32')\n",
    "    return x_float\n",
    "\n",
    "train_samples = convert_dtype(train_samples)\n",
    "test_samples = convert_dtype(test_samples)"
   ]
  },
  {
   "cell_type": "code",
   "execution_count": 11,
   "metadata": {},
   "outputs": [],
   "source": [
    "def normalize(x):\n",
    "  y = (x - np.min(x))/np.ptp(x)   #ptp function is used to find the range\n",
    "  return y\n",
    "\n",
    "train_samples = normalize(train_samples)\n",
    "test_samples = normalize(test_samples)"
   ]
  },
  {
   "cell_type": "code",
   "execution_count": 12,
   "metadata": {},
   "outputs": [
    {
     "data": {
      "text/plain": [
       "True"
      ]
     },
     "execution_count": 12,
     "metadata": {},
     "output_type": "execute_result"
    }
   ],
   "source": [
    "# to check if train_samples is normalized or not\n",
    "np.isclose(np.amax(train_samples), 1)"
   ]
  },
  {
   "cell_type": "code",
   "execution_count": 13,
   "metadata": {},
   "outputs": [],
   "source": [
    "# We need to reshape our train_data to be of shape (samples, height, width, channels) pass to Conv2D layer of keras\n",
    "\n",
    "def reshape(x):\n",
    "    \n",
    "    \n",
    "    x_r=x.reshape(x.shape[0],x.shape[1],x.shape[2],1)\n",
    "    return x_r\n",
    "\n",
    "train_samples = reshape(train_samples)\n",
    "test_samples = reshape(test_samples)"
   ]
  },
  {
   "cell_type": "code",
   "execution_count": 14,
   "metadata": {},
   "outputs": [],
   "source": [
    "def oneHot(y, Ny):\n",
    "    \n",
    "    import tensorflow \n",
    "    from keras.utils import to_categorical\n",
    "    Ny=len(np.unique(y))\n",
    "    y_oh=to_categorical(y,num_classes=Ny)\n",
    "    return y_oh\n",
    "\n",
    "# example\n",
    "train_labels = oneHot(train_labels, 10)\n",
    "test_labels = oneHot(test_labels, 10)"
   ]
  },
  {
   "cell_type": "code",
   "execution_count": 15,
   "metadata": {},
   "outputs": [],
   "source": [
    "from keras.models import Sequential\n",
    "from keras.layers import Dense, Conv2D, Flatten\n",
    "\n",
    "model = Sequential()\n",
    "model.add(Conv2D(64, kernel_size=3, activation='relu', input_shape=(28,28,1)))\n",
    "model.add(Conv2D(32, kernel_size=3, activation='relu'))\n",
    "model.add(Flatten())\n",
    "model.add(Dense(10, activation='softmax'))"
   ]
  },
  {
   "cell_type": "code",
   "execution_count": 16,
   "metadata": {},
   "outputs": [
    {
     "name": "stdout",
     "output_type": "stream",
     "text": [
      "Model: \"sequential_1\"\n",
      "_________________________________________________________________\n",
      "Layer (type)                 Output Shape              Param #   \n",
      "=================================================================\n",
      "conv2d_1 (Conv2D)            (None, 26, 26, 64)        640       \n",
      "_________________________________________________________________\n",
      "conv2d_2 (Conv2D)            (None, 24, 24, 32)        18464     \n",
      "_________________________________________________________________\n",
      "flatten_1 (Flatten)          (None, 18432)             0         \n",
      "_________________________________________________________________\n",
      "dense_1 (Dense)              (None, 10)                184330    \n",
      "=================================================================\n",
      "Total params: 203,434\n",
      "Trainable params: 203,434\n",
      "Non-trainable params: 0\n",
      "_________________________________________________________________\n"
     ]
    }
   ],
   "source": [
    "model.compile(loss='categorical_crossentropy', optimizer='adam', metrics=['accuracy'])\n",
    "model.summary()"
   ]
  },
  {
   "cell_type": "code",
   "execution_count": 17,
   "metadata": {},
   "outputs": [
    {
     "name": "stdout",
     "output_type": "stream",
     "text": [
      "Train on 54000 samples, validate on 6000 samples\n",
      "Epoch 1/4\n",
      "54000/54000 [==============================] - 158s 3ms/step - loss: 0.2607 - accuracy: 0.9245 - val_loss: 0.0742 - val_accuracy: 0.9807\n",
      "Epoch 2/4\n",
      "54000/54000 [==============================] - 155s 3ms/step - loss: 0.0738 - accuracy: 0.9779 - val_loss: 0.0588 - val_accuracy: 0.9850\n",
      "Epoch 3/4\n",
      "54000/54000 [==============================] - 157s 3ms/step - loss: 0.0516 - accuracy: 0.9845 - val_loss: 0.0527 - val_accuracy: 0.9853\n",
      "Epoch 4/4\n",
      "54000/54000 [==============================] - 157s 3ms/step - loss: 0.0401 - accuracy: 0.9877 - val_loss: 0.0552 - val_accuracy: 0.9858\n"
     ]
    }
   ],
   "source": [
    "results = model.fit(train_samples, train_labels, validation_split = 0.1, epochs=4, batch_size=250)"
   ]
  },
  {
   "cell_type": "code",
   "execution_count": 18,
   "metadata": {},
   "outputs": [
    {
     "data": {
      "image/png": "[encoded data removed]",
      "text/plain": [
       "<Figure size 432x288 with 1 Axes>"
      ]
     },
     "metadata": {
      "needs_background": "light"
     },
     "output_type": "display_data"
    }
   ],
   "source": [
    "results.history.keys()\n",
    "import matplotlib.pyplot as plt\n",
    "plt.plot(range(len(results.history['val_loss'])), results.history['val_loss'])\n",
    "plt.show()"
   ]
  },
  {
   "cell_type": "code",
   "execution_count": 19,
   "metadata": {},
   "outputs": [
    {
     "data": {
      "text/html": [
       "<div>\n",
       "<style scoped>\n",
       "    .dataframe tbody tr th:only-of-type {\n",
       "        vertical-align: middle;\n",
       "    }\n",
       "\n",
       "    .dataframe tbody tr th {\n",
       "        vertical-align: top;\n",
       "    }\n",
       "\n",
       "    .dataframe thead th {\n",
       "        text-align: right;\n",
       "    }\n",
       "</style>\n",
       "<table border=\"1\" class=\"dataframe\">\n",
       "  <thead>\n",
       "    <tr style=\"text-align: right;\">\n",
       "      <th></th>\n",
       "      <th>Validation Accuracy</th>\n",
       "      <th>Training Accuracy</th>\n",
       "      <th>Validation Loss</th>\n",
       "      <th>Training Loss</th>\n",
       "      <th>Epoch</th>\n",
       "    </tr>\n",
       "  </thead>\n",
       "  <tbody>\n",
       "    <tr>\n",
       "      <th>0</th>\n",
       "      <td>0.980667</td>\n",
       "      <td>0.924500</td>\n",
       "      <td>0.074180</td>\n",
       "      <td>0.260742</td>\n",
       "      <td>1</td>\n",
       "    </tr>\n",
       "    <tr>\n",
       "      <th>1</th>\n",
       "      <td>0.985000</td>\n",
       "      <td>0.977889</td>\n",
       "      <td>0.058804</td>\n",
       "      <td>0.073819</td>\n",
       "      <td>2</td>\n",
       "    </tr>\n",
       "    <tr>\n",
       "      <th>2</th>\n",
       "      <td>0.985333</td>\n",
       "      <td>0.984463</td>\n",
       "      <td>0.052687</td>\n",
       "      <td>0.051586</td>\n",
       "      <td>3</td>\n",
       "    </tr>\n",
       "    <tr>\n",
       "      <th>3</th>\n",
       "      <td>0.985833</td>\n",
       "      <td>0.987704</td>\n",
       "      <td>0.055189</td>\n",
       "      <td>0.040120</td>\n",
       "      <td>4</td>\n",
       "    </tr>\n",
       "  </tbody>\n",
       "</table>\n",
       "</div>"
      ],
      "text/plain": [
       "   Validation Accuracy  Training Accuracy  Validation Loss  Training Loss  \\\n",
       "0             0.980667           0.924500         0.074180       0.260742   \n",
       "1             0.985000           0.977889         0.058804       0.073819   \n",
       "2             0.985333           0.984463         0.052687       0.051586   \n",
       "3             0.985833           0.987704         0.055189       0.040120   \n",
       "\n",
       "   Epoch  \n",
       "0      1  \n",
       "1      2  \n",
       "2      3  \n",
       "3      4  "
      ]
     },
     "execution_count": 19,
     "metadata": {},
     "output_type": "execute_result"
    }
   ],
   "source": [
    "plot = pd.DataFrame()\n",
    "plot['Validation Accuracy'] = model.history.history['val_accuracy']\n",
    "plot['Training Accuracy'] = model.history.history['accuracy']\n",
    "plot['Validation Loss'] = model.history.history['val_loss']\n",
    "plot['Training Loss'] = model.history.history['loss']\n",
    "plot['Epoch'] = plot.reset_index()['index']+1\n",
    "plot"
   ]
  },
  {
   "cell_type": "code",
   "execution_count": 20,
   "metadata": {},
   "outputs": [],
   "source": [
    "def predict(x):\n",
    "    y = model.predict(x)\n",
    "    return y\n",
    "\n",
    "predicted_labels_train = predict(train_samples)"
   ]
  },
  {
   "cell_type": "code",
   "execution_count": 21,
   "metadata": {},
   "outputs": [],
   "source": [
    "def oneHot_tolabel(y):\n",
    "    \n",
    "    y_b=[]\n",
    "    from sklearn.preprocessing import LabelEncoder\n",
    "    labelencoder = LabelEncoder()\n",
    "    y_b[:, 0] = labelencoder.fit_transform(y_b[:, 0])\n",
    "    return y_b"
   ]
  },
  {
   "cell_type": "code",
   "execution_count": 22,
   "metadata": {},
   "outputs": [
    {
     "name": "stdout",
     "output_type": "stream",
     "text": [
      "Train accuracy is,  99.03833270072937 %\n"
     ]
    }
   ],
   "source": [
    "def accuracy(x_train, y_train, model):\n",
    "    \n",
    "    loss,acc = model.evaluate(train_samples, train_labels,verbose=0) \n",
    "    return acc\n",
    "\n",
    "acc = accuracy(train_samples, train_labels, model)\n",
    "print('Train accuracy is, ', acc*100, '%')"
   ]
  },
  {
   "cell_type": "code",
   "execution_count": 25,
   "metadata": {},
   "outputs": [
    {
     "name": "stdout",
     "output_type": "stream",
     "text": [
      "Test accuracy is,  98.47000241279602 %\n"
     ]
    }
   ],
   "source": [
    "def accuracy(x_test, y_test, model):\n",
    "    \n",
    "    loss,acc = model.evaluate(test_samples, test_labels,verbose=0) \n",
    "    return acc\n",
    "\n",
    "acc = accuracy(test_samples, test_labels, model)\n",
    "print('Test accuracy is, ', acc*100, '%')"
   ]
  },
  {
   "cell_type": "code",
   "execution_count": 26,
   "metadata": {},
   "outputs": [
    {
     "name": "stdout",
     "output_type": "stream",
     "text": [
      "CNN Error: 1.53%\n"
     ]
    }
   ],
   "source": [
    "# Final evaluation of the model\n",
    "scores = model.evaluate(test_samples, test_labels, verbose=0)\n",
    "print(\"CNN Error: %.2f%%\" % (100-scores[1]*100))"
   ]
  }
 ],
 "metadata": {
  "kernelspec": {
   "display_name": "Python 3",
   "language": "python",
   "name": "python3"
  },
  "language_info": {
   "codemirror_mode": {
    "name": "ipython",
    "version": 3
   },
   "file_extension": ".py",
   "mimetype": "text/x-python",
   "name": "python",
   "nbconvert_exporter": "python",
   "pygments_lexer": "ipython3",
   "version": "3.7.7"
  }
 },
 "nbformat": 4,
 "nbformat_minor": 2
}
